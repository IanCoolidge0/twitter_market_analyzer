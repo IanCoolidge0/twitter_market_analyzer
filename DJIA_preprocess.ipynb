{
 "cells": [
  {
   "cell_type": "code",
   "execution_count": 1,
   "metadata": {},
   "outputs": [],
   "source": [
    "import numpy as np\n",
    "import matplotlib.pyplot as plt\n",
    "import csv\n",
    "import pickle\n",
    "from datetime import datetime\n",
    "%matplotlib notebook"
   ]
  },
  {
   "cell_type": "code",
   "execution_count": 2,
   "metadata": {},
   "outputs": [],
   "source": [
    "def get_raw_time_series(path='datasets/DJIA.csv'):\n",
    "    dates = []\n",
    "    days = []\n",
    "    close = []\n",
    "    \n",
    "    with open(path, newline='') as f:\n",
    "        reader = csv.reader(f, quotechar='|')\n",
    "        \n",
    "        for i, row in enumerate(reader):\n",
    "            if i == 0:\n",
    "                continue\n",
    "            if i == 1:\n",
    "                init_date = datetime.strptime(row[0], \"%Y-%m-%d\")\n",
    "            \n",
    "            dates.append(row[0])\n",
    "            days.append((datetime.strptime(row[0], \"%Y-%m-%d\") - init_date).days)\n",
    "            close.append(float(row[5]))\n",
    "            \n",
    "    return init_date, np.array(days), np.array(close)"
   ]
  },
  {
   "cell_type": "code",
   "execution_count": 5,
   "metadata": {},
   "outputs": [
    {
     "name": "stdout",
     "output_type": "stream",
     "text": [
      "130\n"
     ]
    }
   ],
   "source": [
    "start_date, raw_days, raw_close = get_raw_time_series()\n",
    "print((datetime(2009, 9, 1) - start_date).days)"
   ]
  },
  {
   "cell_type": "code",
   "execution_count": 6,
   "metadata": {},
   "outputs": [
    {
     "ename": "NameError",
     "evalue": "name 'days' is not defined",
     "output_type": "error",
     "traceback": [
      "\u001b[1;31m---------------------------------------------------------------------------\u001b[0m",
      "\u001b[1;31mNameError\u001b[0m                                 Traceback (most recent call last)",
      "\u001b[1;32m<ipython-input-6-68a7a0b1af2a>\u001b[0m in \u001b[0;36m<module>\u001b[1;34m()\u001b[0m\n\u001b[0;32m      1\u001b[0m \u001b[0mfig\u001b[0m\u001b[1;33m,\u001b[0m \u001b[0max\u001b[0m \u001b[1;33m=\u001b[0m \u001b[0mplt\u001b[0m\u001b[1;33m.\u001b[0m\u001b[0msubplots\u001b[0m\u001b[1;33m(\u001b[0m\u001b[1;33m)\u001b[0m\u001b[1;33m\u001b[0m\u001b[0m\n\u001b[1;32m----> 2\u001b[1;33m \u001b[0max\u001b[0m\u001b[1;33m.\u001b[0m\u001b[0mplot\u001b[0m\u001b[1;33m(\u001b[0m\u001b[0mdays\u001b[0m\u001b[1;33m,\u001b[0m \u001b[0mclose\u001b[0m\u001b[1;33m)\u001b[0m\u001b[1;33m\u001b[0m\u001b[0m\n\u001b[0m\u001b[0;32m      3\u001b[0m \u001b[0mplt\u001b[0m\u001b[1;33m.\u001b[0m\u001b[0mtitle\u001b[0m\u001b[1;33m(\u001b[0m\u001b[1;34m\"DJIA\"\u001b[0m\u001b[1;33m)\u001b[0m\u001b[1;33m\u001b[0m\u001b[0m\n",
      "\u001b[1;31mNameError\u001b[0m: name 'days' is not defined"
     ]
    },
    {
     "data": {
      "image/png": "[encoded data removed]",
      "text/plain": [
       "<Figure size 432x288 with 1 Axes>"
      ]
     },
     "metadata": {},
     "output_type": "display_data"
    }
   ],
   "source": [
    "fig, ax = plt.subplots()\n",
    "ax.plot(days, close)\n",
    "plt.title(\"DJIA\")"
   ]
  },
  {
   "cell_type": "code",
   "execution_count": 7,
   "metadata": {},
   "outputs": [],
   "source": [
    "def preprocess_time_series(days, close, SMOOTHING=3):\n",
    "    N = 1 + max(days)\n",
    "    new_days = list(range(N))\n",
    "\n",
    "    new_close = [-1] * N\n",
    "    for i, day in enumerate(days):\n",
    "        new_close[day] = close[i]\n",
    "        \n",
    "    #Linear interpolation to add values for non-weekdays\n",
    "    for i in new_days:\n",
    "        if new_close[i] > 0:\n",
    "            continue\n",
    "        \n",
    "        d = 0\n",
    "        while new_close[i+d] < 0:\n",
    "            d += 1\n",
    "            \n",
    "        slope = (new_close[i+d] - new_close[i-1]) / (d + 1)\n",
    "            \n",
    "        for j in range(d):\n",
    "            new_close[i+j] = new_close[i-1] + (j + 1) * slope\n",
    "            \n",
    "    #Fourier smoothing to remove extremely volatile data points\n",
    "    dfft = np.fft.fft(new_close)\n",
    "    dfft[:SMOOTHING] = 0\n",
    "    new_close = np.real(np.fft.ifft(dfft))\n",
    "        \n",
    "    #Convert closing values to z-scores so we're not working with numbers like 10000\n",
    "    mean = np.mean(new_close)\n",
    "    sigma = np.std(new_close)\n",
    "    #new_close = (new_close - mean) / sigma\n",
    "    \n",
    "    return new_days, new_close"
   ]
  },
  {
   "cell_type": "code",
   "execution_count": 8,
   "metadata": {},
   "outputs": [],
   "source": [
    "days, close = preprocess_time_series(raw_days, raw_close, SMOOTHING=0)"
   ]
  },
  {
   "cell_type": "code",
   "execution_count": 9,
   "metadata": {
    "scrolled": true
   },
   "outputs": [
    {
     "data": {
      "text/plain": [
       "[<matplotlib.lines.Line2D at 0x25136873828>]"
      ]
     },
     "execution_count": 9,
     "metadata": {},
     "output_type": "execute_result"
    },
    {
     "data": {
      "image/png": "[encoded data removed]",
      "text/plain": [
       "<Figure size 432x288 with 1 Axes>"
      ]
     },
     "metadata": {},
     "output_type": "display_data"
    }
   ],
   "source": [
    "fig, ax = plt.subplots()\n",
    "ax.plot(days, close)"
   ]
  },
  {
   "cell_type": "code",
   "execution_count": 10,
   "metadata": {},
   "outputs": [],
   "source": [
    "def load_djia(path=\"djia_ts.txt\"):\n",
    "    with open(path, \"rb\") as f:\n",
    "        return pickle.load(f)\n",
    "\n",
    "def save_djia(ts, path=\"djia_ts.txt\"):\n",
    "    with open(path, \"wb\") as f:\n",
    "        pickle.dump(ts, f, pickle.HIGHEST_PROTOCOL)\n"
   ]
  },
  {
   "cell_type": "code",
   "execution_count": 11,
   "metadata": {},
   "outputs": [],
   "source": [
    "save_djia(close)"
   ]
  },
  {
   "cell_type": "code",
   "execution_count": null,
   "metadata": {},
   "outputs": [],
   "source": []
  }
 ],
 "metadata": {
  "kernelspec": {
   "display_name": "Python 3",
   "language": "python",
   "name": "python3"
  },
  "language_info": {
   "codemirror_mode": {
    "name": "ipython",
    "version": 3
   },
   "file_extension": ".py",
   "mimetype": "text/x-python",
   "name": "python",
   "nbconvert_exporter": "python",
   "pygments_lexer": "ipython3",
   "version": "3.6.5"
  }
 },
 "nbformat": 4,
 "nbformat_minor": 2
}
