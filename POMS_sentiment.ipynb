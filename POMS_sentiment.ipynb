{
 "cells": [
  {
   "cell_type": "code",
   "execution_count": 157,
   "metadata": {},
   "outputs": [],
   "source": [
    "import numpy as np\n",
    "from datetime import datetime\n",
    "from thesaurus import Word\n",
    "from collections import defaultdict\n",
    "import matplotlib.pyplot as plt"
   ]
  },
  {
   "cell_type": "markdown",
   "metadata": {},
   "source": [
    "Reading the dataset to obtain tweets from the time period"
   ]
  },
  {
   "cell_type": "code",
   "execution_count": 103,
   "metadata": {},
   "outputs": [],
   "source": [
    "def get_tweets(path=\"datasets/training_set_tweets.txt\"):\n",
    "    with open(path, encoding=\"utf8\") as f:\n",
    "        lines = f.readlines()\n",
    "        \n",
    "        tweets = []\n",
    "        dates  = []\n",
    "\n",
    "        split = lambda t: t.split('\\t')\n",
    "        \n",
    "        for line in map(split, lines):\n",
    "            if len(line) < 4 or len(line[3]) <= 10:\n",
    "                continue\n",
    "            try:\n",
    "                dates.append(datetime.strptime(line[3][:10], \"%Y-%m-%d\"))\n",
    "                tweets.append(line[2])\n",
    "            except ValueError:\n",
    "                continue\n",
    "            \n",
    "        \n",
    "    return tweets, dates"
   ]
  },
  {
   "cell_type": "code",
   "execution_count": 21,
   "metadata": {},
   "outputs": [],
   "source": [
    "tweets, dates = get_tweets()"
   ]
  },
  {
   "cell_type": "markdown",
   "metadata": {},
   "source": [
    "Now let's write the sentiment analysis algo."
   ]
  },
  {
   "cell_type": "code",
   "execution_count": 36,
   "metadata": {},
   "outputs": [],
   "source": [
    "#Remember this takes ~1-2 min to run\n",
    "def get_poms_synonyms():\n",
    "    with open(\"poms.txt\") as f:\n",
    "        words = f.read().split(',')\n",
    "        \n",
    "        synonyms = {}\n",
    "        for word in words:\n",
    "            synonyms[word] = Word(word).synonyms()\n",
    "            \n",
    "    return synonyms"
   ]
  },
  {
   "cell_type": "code",
   "execution_count": 38,
   "metadata": {},
   "outputs": [],
   "source": [
    "poms_synonyms = get_poms_synonyms()"
   ]
  },
  {
   "cell_type": "code",
   "execution_count": 78,
   "metadata": {},
   "outputs": [],
   "source": [
    "def poms_scores(text, poms_synonyms):\n",
    "    raw_scores = defaultdict(int)\n",
    "    tokens = text.lower().split(' ')\n",
    "    \n",
    "    for token in tokens:\n",
    "        for word in poms_synonyms:\n",
    "            if token == word or token in poms_synonyms[word]:\n",
    "                raw_scores[word] += 1\n",
    "    \n",
    "    scores = {}\n",
    "    \n",
    "    scores['tension'] = raw_scores['tense']         + \\\n",
    "                        raw_scores['shaky']         + \\\n",
    "                        raw_scores['on edge']       + \\\n",
    "                        raw_scores['panicky']       + \\\n",
    "                       -raw_scores['relaxed']       + \\\n",
    "                        raw_scores['uneasy']        + \\\n",
    "                        raw_scores['restless']      + \\\n",
    "                        raw_scores['nervous']       + \\\n",
    "                        raw_scores['anxious']\n",
    "    \n",
    "    scores['depression'] = raw_scores['unhappy']    + \\\n",
    "                        raw_scores['sorry']         + \\\n",
    "                        raw_scores['sad']           + \\\n",
    "                        raw_scores['blue']          + \\\n",
    "                        raw_scores['hopeless']      + \\\n",
    "                        raw_scores['unworthy']      + \\\n",
    "                        raw_scores['discouraged']   + \\\n",
    "                        raw_scores['lonely']        + \\\n",
    "                        raw_scores['helpless']      + \\\n",
    "                        raw_scores['worthless']     + \\\n",
    "                        raw_scores['terrified']     + \\\n",
    "                        raw_scores['guilty']        \n",
    "    \n",
    "    scores['anger'] =   raw_scores['angry']         + \\\n",
    "                        raw_scores['peeved']        + \\\n",
    "                        raw_scores['grouchy']       + \\\n",
    "                        raw_scores['spiteful']      + \\\n",
    "                        raw_scores['annoyed']       + \\\n",
    "                        raw_scores['resentful']     + \\\n",
    "                        raw_scores['bitter']        + \\\n",
    "                        raw_scores['ready to fight']+ \\\n",
    "                        raw_scores['rebellious']    + \\\n",
    "                        raw_scores['deceived']      + \\\n",
    "                        raw_scores['furious']       + \\\n",
    "                        raw_scores['bad tempered']  \n",
    "    \n",
    "    scores['fatigue'] = raw_scores['worn out']      + \\\n",
    "                        raw_scores['listless']      + \\\n",
    "                        raw_scores['fatigued']      + \\\n",
    "                        raw_scores['exhausted']     + \\\n",
    "                        raw_scores['sluggish']      + \\\n",
    "                        raw_scores['weary']         + \\\n",
    "                        raw_scores['bushed']\n",
    "    \n",
    "    scores['confusion'] = raw_scores['confused']     + \\\n",
    "                        raw_scores['distracted']     + \\\n",
    "                        raw_scores['muddled']        + \\\n",
    "                        raw_scores['bewildered']     + \\\n",
    "                       -raw_scores['efficient']      + \\\n",
    "                        raw_scores['forgetful']      + \\\n",
    "                        raw_scores['uncertain']\n",
    "    \n",
    "    scores['vigour'] =  raw_scores['lively']         + \\\n",
    "                        raw_scores['active']         + \\\n",
    "                        raw_scores['energetic']      + \\\n",
    "                        raw_scores['cheerful']       + \\\n",
    "                        raw_scores['alert']          + \\\n",
    "                        raw_scores['peppy']          + \\\n",
    "                        raw_scores['carefree']       + \\\n",
    "                        raw_scores['vigorous']\n",
    "\n",
    "    \n",
    "    return scores\n",
    "        "
   ]
  },
  {
   "cell_type": "markdown",
   "metadata": {},
   "source": [
    "Example tweet (demonstrated emotion):"
   ]
  },
  {
   "cell_type": "code",
   "execution_count": 101,
   "metadata": {},
   "outputs": [
    {
     "data": {
      "text/plain": [
       "'...including his last failed relationship.  and while I know that none of it is grounded in reality, and I actually am worried about him...'"
      ]
     },
     "execution_count": 101,
     "metadata": {},
     "output_type": "execute_result"
    }
   ],
   "source": [
    "tweets[9]"
   ]
  },
  {
   "cell_type": "code",
   "execution_count": 102,
   "metadata": {},
   "outputs": [
    {
     "data": {
      "text/plain": [
       "{'tension': 5,\n",
       " 'depression': 0,\n",
       " 'anger': 0,\n",
       " 'fatigue': 0,\n",
       " 'confusion': 0,\n",
       " 'vigour': 0}"
      ]
     },
     "execution_count": 102,
     "metadata": {},
     "output_type": "execute_result"
    }
   ],
   "source": [
    "poms_scores(tweets[9], poms_synonyms)"
   ]
  },
  {
   "cell_type": "markdown",
   "metadata": {},
   "source": [
    "Finally, we need to sort the Twitter dataset by day and plug each tweet into the POMS machine to get time series. Most of these functions will operate on millions of tweets so they'll probably take some time."
   ]
  },
  {
   "cell_type": "code",
   "execution_count": 145,
   "metadata": {},
   "outputs": [],
   "source": [
    "def sentiment_time_dict(tweets, dates, poms_synonyms):\n",
    "    sent_dict = defaultdict(lambda: {'tension': 0,\n",
    "                                     'depression': 0,\n",
    "                                     'anger': 0,\n",
    "                                     'fatigue': 0,\n",
    "                                     'confusion': 0,\n",
    "                                     'vigour': 0,\n",
    "                                     'total': 0})\n",
    "    start_date = datetime(2009, 9, 1)\n",
    "    \n",
    "    for tweet, date in zip(tweets, dates):\n",
    "        scores = poms_scores(tweet, poms_synonyms)\n",
    "        \n",
    "        days = (date - start_date).days\n",
    "        if days < 0:\n",
    "            continue\n",
    "        \n",
    "        sent_dict[days]['tension'] += scores['tension']\n",
    "        sent_dict[days]['depression'] += scores['depression']\n",
    "        sent_dict[days]['anger'] += scores['anger']\n",
    "        sent_dict[days]['fatigue'] += scores['fatigue']\n",
    "        sent_dict[days]['confusion'] += scores['confusion']\n",
    "        sent_dict[days]['vigour'] += scores['vigour']\n",
    "        sent_dict[days]['total'] += 1\n",
    "        \n",
    "    for date in sent_dict:\n",
    "        sent_dict[date]['tension'] /= sent_dict[date]['total']\n",
    "        sent_dict[date]['depression'] /= sent_dict[date]['total']\n",
    "        sent_dict[date]['anger'] /= sent_dict[date]['total']\n",
    "        sent_dict[date]['fatigue'] /= sent_dict[date]['total']\n",
    "        sent_dict[date]['confusion'] /= sent_dict[date]['total']\n",
    "        sent_dict[date]['vigour'] /= sent_dict[date]['total']\n",
    "        \n",
    "    return sent_dict"
   ]
  },
  {
   "cell_type": "code",
   "execution_count": 188,
   "metadata": {},
   "outputs": [],
   "source": [
    "sent_dict = sentiment_time_dict(tweets[:300000], dates[:300000], poms_synonyms)"
   ]
  },
  {
   "cell_type": "code",
   "execution_count": 202,
   "metadata": {},
   "outputs": [],
   "source": [
    "def sentiment_time_series(sent_dict, key):\n",
    "    N = max(sent_dict.keys())\n",
    "    print(N)\n",
    "    \n",
    "    T = np.ndarray((N,))\n",
    "    for i in range(N):\n",
    "        T[i] = sent_dict[i][key]\n",
    "        \n",
    "    #convert to z-scores\n",
    "    mean = np.mean(T)\n",
    "    std  = np.std(T)\n",
    "    T = (T - mean) / std\n",
    "        \n",
    "    return T"
   ]
  },
  {
   "cell_type": "code",
   "execution_count": 207,
   "metadata": {},
   "outputs": [
    {
     "name": "stdout",
     "output_type": "stream",
     "text": [
      "98\n"
     ]
    }
   ],
   "source": [
    "series = sentiment_time_series(sent_dict, 'tension')"
   ]
  },
  {
   "cell_type": "code",
   "execution_count": 208,
   "metadata": {},
   "outputs": [
    {
     "data": {
      "text/plain": [
       "[<matplotlib.lines.Line2D at 0x1f281d25080>]"
      ]
     },
     "execution_count": 208,
     "metadata": {},
     "output_type": "execute_result"
    },
    {
     "data": {
      "image/png": "[encoded data removed]",
      "text/plain": [
       "<Figure size 432x288 with 1 Axes>"
      ]
     },
     "metadata": {},
     "output_type": "display_data"
    }
   ],
   "source": [
    "fig, ax = plt.subplots()\n",
    "ax.plot(series)"
   ]
  },
  {
   "cell_type": "code",
   "execution_count": null,
   "metadata": {},
   "outputs": [],
   "source": []
  }
 ],
 "metadata": {
  "kernelspec": {
   "display_name": "Python 3",
   "language": "python",
   "name": "python3"
  },
  "language_info": {
   "codemirror_mode": {
    "name": "ipython",
    "version": 3
   },
   "file_extension": ".py",
   "mimetype": "text/x-python",
   "name": "python",
   "nbconvert_exporter": "python",
   "pygments_lexer": "ipython3",
   "version": "3.6.5"
  }
 },
 "nbformat": 4,
 "nbformat_minor": 2
}
