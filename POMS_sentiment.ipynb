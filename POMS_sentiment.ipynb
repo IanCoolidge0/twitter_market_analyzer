{
 "cells": [
  {
   "cell_type": "code",
   "execution_count": 2,
   "metadata": {},
   "outputs": [],
   "source": [
    "import numpy as np\n",
    "from datetime import datetime\n",
    "from thesaurus import Word\n",
    "from collections import defaultdict\n",
    "import matplotlib.pyplot as plt\n",
    "import pickle"
   ]
  },
  {
   "cell_type": "markdown",
   "metadata": {},
   "source": [
    "Reading the dataset to obtain tweets from the time period"
   ]
  },
  {
   "cell_type": "code",
   "execution_count": 3,
   "metadata": {},
   "outputs": [],
   "source": [
    "def get_tweets(path=\"datasets/training_set_tweets.txt\"):\n",
    "    with open(path, encoding=\"utf8\") as f:\n",
    "        lines = f.readlines()\n",
    "        \n",
    "        tweets = []\n",
    "        dates  = []\n",
    "\n",
    "        split = lambda t: t.split('\\t')\n",
    "        \n",
    "        for line in map(split, lines):\n",
    "            if len(line) < 4 or len(line[3]) <= 10:\n",
    "                continue\n",
    "            try:\n",
    "                dates.append(datetime.strptime(line[3][:10], \"%Y-%m-%d\"))\n",
    "                tweets.append(line[2])\n",
    "            except ValueError:\n",
    "                continue\n",
    "            \n",
    "        \n",
    "    return tweets, dates"
   ]
  },
  {
   "cell_type": "code",
   "execution_count": 4,
   "metadata": {},
   "outputs": [
    {
     "data": {
      "text/plain": [
       "3675242"
      ]
     },
     "execution_count": 4,
     "metadata": {},
     "output_type": "execute_result"
    }
   ],
   "source": [
    "tweets, dates = get_tweets()\n",
    "len(tweets)"
   ]
  },
  {
   "cell_type": "markdown",
   "metadata": {},
   "source": [
    "Now let's write the sentiment analysis algo."
   ]
  },
  {
   "cell_type": "code",
   "execution_count": 4,
   "metadata": {},
   "outputs": [],
   "source": [
    "#Remember this takes ~1-2 min to run\n",
    "def get_poms_synonyms():\n",
    "    with open(\"poms.txt\") as f:\n",
    "        words = f.read().split(',')\n",
    "        \n",
    "        synonyms = {}\n",
    "        for word in words:\n",
    "            synonyms[word] = Word(word).synonyms()\n",
    "            \n",
    "    return synonyms"
   ]
  },
  {
   "cell_type": "code",
   "execution_count": 6,
   "metadata": {},
   "outputs": [],
   "source": [
    "poms_synonyms = get_poms_synonyms()"
   ]
  },
  {
   "cell_type": "code",
   "execution_count": 7,
   "metadata": {},
   "outputs": [],
   "source": [
    "def poms_scores(text, poms_synonyms):\n",
    "    raw_scores = defaultdict(int)\n",
    "    tokens = text.lower().split(' ')\n",
    "    \n",
    "    for token in tokens:\n",
    "        for word in poms_synonyms:\n",
    "            if token == word or token in poms_synonyms[word]:\n",
    "                raw_scores[word] += 1\n",
    "    \n",
    "    scores = {}\n",
    "    \n",
    "    scores['tension'] = raw_scores['tense']         + \\\n",
    "                        raw_scores['shaky']         + \\\n",
    "                        raw_scores['on edge']       + \\\n",
    "                        raw_scores['panicky']       + \\\n",
    "                       -raw_scores['relaxed']       + \\\n",
    "                        raw_scores['uneasy']        + \\\n",
    "                        raw_scores['restless']      + \\\n",
    "                        raw_scores['nervous']       + \\\n",
    "                        raw_scores['anxious']\n",
    "    \n",
    "    scores['depression'] = raw_scores['unhappy']    + \\\n",
    "                        raw_scores['sorry']         + \\\n",
    "                        raw_scores['sad']           + \\\n",
    "                        raw_scores['blue']          + \\\n",
    "                        raw_scores['hopeless']      + \\\n",
    "                        raw_scores['unworthy']      + \\\n",
    "                        raw_scores['discouraged']   + \\\n",
    "                        raw_scores['lonely']        + \\\n",
    "                        raw_scores['helpless']      + \\\n",
    "                        raw_scores['worthless']     + \\\n",
    "                        raw_scores['terrified']     + \\\n",
    "                        raw_scores['guilty']        \n",
    "    \n",
    "    scores['anger'] =   raw_scores['angry']         + \\\n",
    "                        raw_scores['peeved']        + \\\n",
    "                        raw_scores['grouchy']       + \\\n",
    "                        raw_scores['spiteful']      + \\\n",
    "                        raw_scores['annoyed']       + \\\n",
    "                        raw_scores['resentful']     + \\\n",
    "                        raw_scores['bitter']        + \\\n",
    "                        raw_scores['ready to fight']+ \\\n",
    "                        raw_scores['rebellious']    + \\\n",
    "                        raw_scores['deceived']      + \\\n",
    "                        raw_scores['furious']       + \\\n",
    "                        raw_scores['bad tempered']  \n",
    "    \n",
    "    scores['fatigue'] = raw_scores['worn out']      + \\\n",
    "                        raw_scores['listless']      + \\\n",
    "                        raw_scores['fatigued']      + \\\n",
    "                        raw_scores['exhausted']     + \\\n",
    "                        raw_scores['sluggish']      + \\\n",
    "                        raw_scores['weary']         + \\\n",
    "                        raw_scores['bushed']\n",
    "    \n",
    "    scores['confusion'] = raw_scores['confused']     + \\\n",
    "                        raw_scores['distracted']     + \\\n",
    "                        raw_scores['muddled']        + \\\n",
    "                        raw_scores['bewildered']     + \\\n",
    "                       -raw_scores['efficient']      + \\\n",
    "                        raw_scores['forgetful']      + \\\n",
    "                        raw_scores['uncertain']\n",
    "    \n",
    "    scores['vigour'] =  raw_scores['lively']         + \\\n",
    "                        raw_scores['active']         + \\\n",
    "                        raw_scores['energetic']      + \\\n",
    "                        raw_scores['cheerful']       + \\\n",
    "                        raw_scores['alert']          + \\\n",
    "                        raw_scores['peppy']          + \\\n",
    "                        raw_scores['carefree']       + \\\n",
    "                        raw_scores['vigorous']\n",
    "\n",
    "    \n",
    "    return scores\n",
    "        "
   ]
  },
  {
   "cell_type": "markdown",
   "metadata": {},
   "source": [
    "Example tweet (demonstrated emotion):"
   ]
  },
  {
   "cell_type": "code",
   "execution_count": 8,
   "metadata": {},
   "outputs": [
    {
     "data": {
      "text/plain": [
       "'...including his last failed relationship.  and while I know that none of it is grounded in reality, and I actually am worried about him...'"
      ]
     },
     "execution_count": 8,
     "metadata": {},
     "output_type": "execute_result"
    }
   ],
   "source": [
    "tweets[9]"
   ]
  },
  {
   "cell_type": "code",
   "execution_count": 9,
   "metadata": {},
   "outputs": [
    {
     "data": {
      "text/plain": [
       "{'tension': 5,\n",
       " 'depression': 0,\n",
       " 'anger': 0,\n",
       " 'fatigue': 0,\n",
       " 'confusion': 0,\n",
       " 'vigour': 0}"
      ]
     },
     "execution_count": 9,
     "metadata": {},
     "output_type": "execute_result"
    }
   ],
   "source": [
    "poms_scores(tweets[9], poms_synonyms)"
   ]
  },
  {
   "cell_type": "markdown",
   "metadata": {},
   "source": [
    "Finally, we need to sort the Twitter dataset by day and plug each tweet into the POMS machine to get time series. Most of these functions will operate on millions of tweets so they'll probably take some time.\n",
    "\n",
    "In particular, the function below will take approximately 1 minute per 100,000 tweets processed."
   ]
  },
  {
   "cell_type": "code",
   "execution_count": 35,
   "metadata": {},
   "outputs": [],
   "source": [
    "def sentiment_time_dict(tweets, dates, poms_synonyms):\n",
    "    sent_dict = defaultdict(lambda: {'tension': 0,\n",
    "                                     'depression': 0,\n",
    "                                     'anger': 0,\n",
    "                                     'fatigue': 0,\n",
    "                                     'confusion': 0,\n",
    "                                     'vigour': 0,\n",
    "                                     'total': 0})\n",
    "    start_date = datetime(2009, 9, 1)\n",
    "    discarded = 0.0\n",
    "    counter = 0\n",
    "    \n",
    "    for tweet, date in zip(tweets, dates):\n",
    "        counter += 1\n",
    "        if counter % 100000 == 0:\n",
    "            print(\"%d tweets processed.\" % counter)\n",
    "        \n",
    "        scores = poms_scores(tweet, poms_synonyms)\n",
    "        \n",
    "        days = (date - start_date).days\n",
    "        if days < 0:\n",
    "            discarded += 1\n",
    "            continue\n",
    "        \n",
    "        sent_dict[days]['tension'] += scores['tension']\n",
    "        sent_dict[days]['depression'] += scores['depression']\n",
    "        sent_dict[days]['anger'] += scores['anger']\n",
    "        sent_dict[days]['fatigue'] += scores['fatigue']\n",
    "        sent_dict[days]['confusion'] += scores['confusion']\n",
    "        sent_dict[days]['vigour'] += scores['vigour']\n",
    "        sent_dict[days]['total'] += 1\n",
    "        \n",
    "    for date in sent_dict:\n",
    "        sent_dict[date]['tension'] /= sent_dict[date]['total']\n",
    "        sent_dict[date]['depression'] /= sent_dict[date]['total']\n",
    "        sent_dict[date]['anger'] /= sent_dict[date]['total']\n",
    "        sent_dict[date]['fatigue'] /= sent_dict[date]['total']\n",
    "        sent_dict[date]['confusion'] /= sent_dict[date]['total']\n",
    "        sent_dict[date]['vigour'] /= sent_dict[date]['total']\n",
    "        \n",
    "    print(\"Dictionary construction complete. %f percent of tweets discarded.\" % (100 * discarded / len(tweets)) )\n",
    "    return dict(sent_dict)"
   ]
  },
  {
   "cell_type": "code",
   "execution_count": 2,
   "metadata": {},
   "outputs": [],
   "source": [
    "def load_sent_dict(path=\"sent_dict.txt\"):\n",
    "    with open(path, \"rb\") as f:\n",
    "        return pickle.load(f)\n",
    "\n",
    "def save_sent_dict(sent_dict, path=\"sent_dict.txt\"):\n",
    "    with open(path, \"wb\") as f:\n",
    "        pickle.dump(sent_dict, f, pickle.HIGHEST_PROTOCOL)"
   ]
  },
  {
   "cell_type": "code",
   "execution_count": 37,
   "metadata": {},
   "outputs": [
    {
     "name": "stdout",
     "output_type": "stream",
     "text": [
      "100000 tweets processed.\n",
      "200000 tweets processed.\n",
      "300000 tweets processed.\n",
      "400000 tweets processed.\n",
      "500000 tweets processed.\n",
      "600000 tweets processed.\n",
      "700000 tweets processed.\n",
      "800000 tweets processed.\n",
      "900000 tweets processed.\n",
      "1000000 tweets processed.\n",
      "1100000 tweets processed.\n",
      "1200000 tweets processed.\n",
      "1300000 tweets processed.\n",
      "1400000 tweets processed.\n",
      "1500000 tweets processed.\n",
      "1600000 tweets processed.\n",
      "1700000 tweets processed.\n",
      "1800000 tweets processed.\n",
      "1900000 tweets processed.\n",
      "2000000 tweets processed.\n",
      "2100000 tweets processed.\n",
      "2200000 tweets processed.\n",
      "2300000 tweets processed.\n",
      "2400000 tweets processed.\n",
      "2500000 tweets processed.\n",
      "2600000 tweets processed.\n",
      "2700000 tweets processed.\n",
      "2800000 tweets processed.\n",
      "2900000 tweets processed.\n",
      "3000000 tweets processed.\n",
      "3100000 tweets processed.\n",
      "3200000 tweets processed.\n",
      "3300000 tweets processed.\n",
      "3400000 tweets processed.\n",
      "3500000 tweets processed.\n",
      "3600000 tweets processed.\n",
      "Dictionary construction complete. 10.478412 percent of tweets discarded.\n"
     ]
    }
   ],
   "source": [
    "sent_dict = sentiment_time_dict(tweets, dates, poms_synonyms)"
   ]
  },
  {
   "cell_type": "markdown",
   "metadata": {},
   "source": [
    "This cell should be used for saving and loading sent_dict as needed."
   ]
  },
  {
   "cell_type": "code",
   "execution_count": 3,
   "metadata": {},
   "outputs": [],
   "source": [
    "sent_dict = load_sent_dict()"
   ]
  },
  {
   "cell_type": "code",
   "execution_count": 4,
   "metadata": {},
   "outputs": [],
   "source": [
    "def sentiment_time_series(sent_dict, key):\n",
    "    N = max(sent_dict.keys())\n",
    "    \n",
    "    T = np.ndarray((N,))\n",
    "    for i in range(N):\n",
    "        T[i] = sent_dict[i][key]\n",
    "        \n",
    "    #convert to z-scores\n",
    "    mean = np.mean(T)\n",
    "    std  = np.std(T)\n",
    "    T = (T - mean) / std\n",
    "        \n",
    "    return T"
   ]
  },
  {
   "cell_type": "code",
   "execution_count": 7,
   "metadata": {},
   "outputs": [],
   "source": [
    "series = sentiment_time_series(sent_dict, 'vigour') - sentiment_time_series(sent_dict, 'depression')"
   ]
  },
  {
   "cell_type": "markdown",
   "metadata": {},
   "source": [
    "We are finally able to view the results of our time series. Below is a happiness score around Thanksgiving, which occurs at $x=6$ on the graph."
   ]
  },
  {
   "cell_type": "code",
   "execution_count": 8,
   "metadata": {},
   "outputs": [
    {
     "data": {
      "text/plain": [
       "[<matplotlib.lines.Line2D at 0x1fca968de10>]"
      ]
     },
     "execution_count": 8,
     "metadata": {},
     "output_type": "execute_result"
    },
    {
     "data": {
      "image/png": "[encoded data removed]",
      "text/plain": [
       "<Figure size 432x288 with 1 Axes>"
      ]
     },
     "metadata": {},
     "output_type": "display_data"
    }
   ],
   "source": [
    "fig, ax = plt.subplots()\n",
    "ax.plot(series)"
   ]
  },
  {
   "cell_type": "code",
   "execution_count": null,
   "metadata": {},
   "outputs": [],
   "source": []
  }
 ],
 "metadata": {
  "kernelspec": {
   "display_name": "Python 3",
   "language": "python",
   "name": "python3"
  },
  "language_info": {
   "codemirror_mode": {
    "name": "ipython",
    "version": 3
   },
   "file_extension": ".py",
   "mimetype": "text/x-python",
   "name": "python",
   "nbconvert_exporter": "python",
   "pygments_lexer": "ipython3",
   "version": "3.6.5"
  }
 },
 "nbformat": 4,
 "nbformat_minor": 2
}
