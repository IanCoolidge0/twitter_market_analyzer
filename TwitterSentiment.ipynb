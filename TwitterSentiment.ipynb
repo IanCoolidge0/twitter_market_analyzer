{
 "cells": [
  {
   "cell_type": "code",
   "execution_count": 3,
   "metadata": {},
   "outputs": [],
   "source": [
    "import tweepy\n",
    "import json\n",
    "import textblob"
   ]
  },
  {
   "cell_type": "code",
   "execution_count": 1,
   "metadata": {},
   "outputs": [],
   "source": [
    "CONSUMER_TOKEN = \"1Vu98GqSeX6FG0bILMJ6lO3qh\"\n",
    "ACCESS_TOKEN = \"1858790125-IH9bYyr7sllvPkqOYxTL6dgbWBW1ooDWbh0Uk2C\"\n",
    "CONSUMER_SECRET = \"\"\n",
    "ACCESS_SECRET = \"\""
   ]
  },
  {
   "cell_type": "code",
   "execution_count": 5,
   "metadata": {},
   "outputs": [],
   "source": [
    "auth = tweepy.OAuthHandler(CONSUMER_TOKEN, CONSUMER_SECRET)\n",
    "auth.set_access_token(ACCESS_TOKEN, ACCESS_SECRET)\n",
    "\n",
    "api = tweepy.API(auth)"
   ]
  },
  {
   "cell_type": "code",
   "execution_count": 6,
   "metadata": {},
   "outputs": [],
   "source": [
    "def preprocess(raw_tweet, cull_hashtags=False):\n",
    "    if 'retweeted_status' in raw_tweet:\n",
    "        tweet_text = raw_tweet['retweeted_status']['full_text']\n",
    "    else:\n",
    "        tweet_text = raw_tweet['full_text']\n",
    "        \n",
    "    tokens = tweet_text.split(' ')\n",
    "    \n",
    "    use_tokens = []\n",
    "    for token in tokens:\n",
    "        \n",
    "        #remove all tokens containing links\n",
    "        if 'https://' in token or 'http://' in token:\n",
    "            continue\n",
    "            \n",
    "        #hashtags assumed to be part of a sentence unless culled\n",
    "        if len(token) > 0 and token[0] == '#':\n",
    "            if cull_hashtags:\n",
    "                continue\n",
    "            token = token[1:]\n",
    "\n",
    "        use_tokens.append(token)\n",
    "        \n",
    "    return ' '.join(use_tokens)"
   ]
  },
  {
   "cell_type": "code",
   "execution_count": 30,
   "metadata": {},
   "outputs": [
    {
     "name": "stdout",
     "output_type": "stream",
     "text": [
      "https://t.co/LeLrF5H731 2019-05-18 23:59:59\n",
      "Ya se armó #VamosRayados 2019-05-18 23:59:59\n",
      "Drinking an 4th Anniversary by @Stable12Brewing at @unochicagogrill — https://t.co/cJDmXmWku4 2019-05-18 23:59:59\n",
      "T6: A spectacular catch ends the Fredricksburg threat, they lead 3-2. 2019-05-18 23:59:59\n",
      "R u GoINg tO ThE LIl SkIeS CoNCeRt? 2019-05-18 23:59:59\n",
      "@CNNPolitics I think Elizabeth Warren and Bernie Sanders can take each other but nothing would happen. 2019-05-18 23:59:59\n",
      "@realDonaldTrump Lock and load 2019-05-18 23:59:59\n",
      "@Brklyn_Matz Im telling you man, its hitting everybody. 2019-05-18 23:59:59\n",
      "Happy birthday girl!!! @nicollekakares \n",
      "#LiveYourBestLife @ Deluxx Fluxx https://t.co/KvCdwTWiA2 2019-05-18 23:59:59\n",
      "Drinking a Test Batch #62: Cask Experimental Hop IPA by @locustlanecb @ Locust Lane Craft Brewery — https://t.co/RfumY5wn8J 2019-05-18 23:59:59\n"
     ]
    },
    {
     "data": {
      "text/plain": [
       "0"
      ]
     },
     "execution_count": 30,
     "metadata": {},
     "output_type": "execute_result"
    }
   ],
   "source": [
    "tweetCount = 0\n",
    "for tweet in tweepy.Cursor(api.search,q=\"place:96683cc9126741d1\", until=\"2019-05-19\").items(10):\n",
    "    if tweet.place is not None:\n",
    "        print(tweet.text, tweet.created_at)\n",
    "tweetCount"
   ]
  },
  {
   "cell_type": "code",
   "execution_count": 27,
   "metadata": {},
   "outputs": [
    {
     "data": {
      "text/plain": [
       "{'/search/tweets': {'limit': 180, 'remaining': 177, 'reset': 1558304410}}"
      ]
     },
     "execution_count": 27,
     "metadata": {},
     "output_type": "execute_result"
    }
   ],
   "source": [
    "api.rate_limit_status()['resources']['search']"
   ]
  },
  {
   "cell_type": "code",
   "execution_count": 12,
   "metadata": {
    "scrolled": true
   },
   "outputs": [
    {
     "name": "stdout",
     "output_type": "stream",
     "text": [
      "Am I the only person that believes she sun is therapeutic and also a punishment for my sins at the same time? ☀️\n",
      "----\n",
      "\n",
      "Home run, Rangers!!!! 🎉🎉🎉\n",
      "----\n",
      "\n",
      "@Delta Sent\n",
      "----\n",
      "\n",
      "I'm at Boyd-Buchanan School in Chattanooga, TN\n",
      "----\n",
      "\n",
      "Welcome back Pomeranz back to normal SFGiants pitching awful after 3 great innings\n",
      "----\n",
      "\n",
      "Join the NorthBay Healthcare team! See our latest job opening here: HospitalWeek Obgyn\n",
      "----\n",
      "\n",
      "@Haley115246 Lmfao thank you 😂💙\n",
      "----\n",
      "\n",
      "Maybe it’ll be me!\n",
      "----\n",
      "\n",
      "@_lohaze_ @Ashinod2 @alissa_ashleyy nahhh. not to mention she completely ripped off beauty bakerie and there's evidence of her requesting their PR stylings for their flour powder before it's launch and... well... it's all on youtube. she's been cancelled.\n",
      "----\n",
      "\n",
      "@WmStubbs This is the kind of news we all need.\n",
      "----\n",
      "\n",
      "@EN_PRIVATE @Ria_Sunn @Sarah_KayCZ @JossLescaf Let me give you a shot of same, looser editor s50 thik\n",
      "----\n",
      "\n",
      "@faviulous If you’re paying over $80 it’s too much, I can tell you that.\n",
      "----\n",
      "\n",
      "@daddypeddler @CheahaChallenge @southern_velo How did it go @daddypeddler?\n",
      "----\n",
      "\n",
      "BEAT THE TWINS, BABY!!! 😃⚾️ whereiroot truetotheblue gomariners 💙💛 @ T-Mobile Park\n",
      "----\n",
      "\n",
      "@GuamMidwife I think you are missing the point. Equating everyone that delivers healthcare as a provider blurs a line. You are correct, I am a physician. Not a provider.\n",
      "----\n",
      "\n",
      "@waveygetsherwet @svndrabee @w6vyleon tap outs are a waste of money\n",
      "----\n",
      "\n",
      "@AnishESPN it's pronounced Oregun (spelled Oregon)\n",
      "----\n",
      "\n",
      "I’m bored so quote this with yours \n",
      "\n",
      "my first love: Sagittarius\n",
      "longest relationship: Libra \n",
      "my moms sign: Aries\n",
      "my dad sign: Capricorn  \n",
      "worst relationship: Libra \n",
      "best sign: Gemini 💁🏻‍♀️ \n",
      "my heart belongs to: Libra \n",
      "my sign: Gemini\n",
      "----\n",
      "\n",
      "Very into Bernie’s southern tour\n",
      "----\n",
      "\n",
      "Who cares?\n",
      "----\n",
      "\n",
      "@ToddCaddie Preaching to the choir\n",
      "----\n",
      "\n",
      "You don't stop living until your dead, make it count know!\n",
      "----\n",
      "\n",
      "Seems anytime the NHL has a game on network television that it's a blowout. Can't be good for ratings. 😬\n",
      "----\n",
      "\n",
      "you know canes is good when i, of all people, am using the sauce\n",
      "----\n",
      "\n",
      "@Burgatron13 @pollihanj @2_Shanezzzzz I agree with it needs to be for charity so props to the Blues and any other team that has done that!\n",
      "----\n",
      "\n"
     ]
    }
   ],
   "source": [
    "for res in search_results:\n",
    "    print(preprocess(res._json))\n",
    "    print(\"----\\n\")"
   ]
  },
  {
   "cell_type": "code",
   "execution_count": 12,
   "metadata": {},
   "outputs": [
    {
     "name": "stdout",
     "output_type": "stream",
     "text": [
      "Mean sentiment polarity given by 0.24517146540083515\n",
      "Overall positive sentiment.\n"
     ]
    }
   ],
   "source": [
    "mean_polarity = 0\n",
    "total_subjectivity = 0\n",
    "for res in search_results:\n",
    "    blob = textblob.TextBlob(res._json['full_text'])\n",
    "    mean_polarity += blob.sentiment.subjectivity * blob.sentiment.polarity\n",
    "    total_subjectivity += blob.sentiment.subjectivity\n",
    "    \n",
    "mean_polarity /= total_subjectivity\n",
    "    \n",
    "print(\"Mean sentiment polarity given by\", mean_polarity)\n",
    "if mean_polarity <= 0:\n",
    "    print(\"Overall negative sentiment.\")\n",
    "else:\n",
    "    print(\"Overall positive sentiment.\")"
   ]
  },
  {
   "cell_type": "code",
   "execution_count": 8,
   "metadata": {},
   "outputs": [],
   "source": [
    "blob = textblob.TextBlob(\"BREAKING: CNN is Outraged that President Trump wanted to release Illegal's Detained at the Border into Sanctuary Cities. You can't make this up Folks... I can't stop laughing... This is an actual story, hell isn't that the point? I'm Alive...\")"
   ]
  },
  {
   "cell_type": "code",
   "execution_count": 9,
   "metadata": {},
   "outputs": [
    {
     "data": {
      "text/plain": [
       "Sentiment(polarity=-0.32499999999999996, subjectivity=0.5)"
      ]
     },
     "execution_count": 9,
     "metadata": {},
     "output_type": "execute_result"
    }
   ],
   "source": [
    "blob.sentiment"
   ]
  },
  {
   "cell_type": "code",
   "execution_count": null,
   "metadata": {},
   "outputs": [],
   "source": []
  }
 ],
 "metadata": {
  "kernelspec": {
   "display_name": "Python 3",
   "language": "python",
   "name": "python3"
  },
  "language_info": {
   "codemirror_mode": {
    "name": "ipython",
    "version": 3
   },
   "file_extension": ".py",
   "mimetype": "text/x-python",
   "name": "python",
   "nbconvert_exporter": "python",
   "pygments_lexer": "ipython3",
   "version": "3.6.5"
  }
 },
 "nbformat": 4,
 "nbformat_minor": 2
}
